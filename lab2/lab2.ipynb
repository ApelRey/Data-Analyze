{
 "cells": [
  {
   "cell_type": "markdown",
   "id": "ac824369",
   "metadata": {},
   "source": [
    "# Лабораторна робота No1\n",
    "Наука про дані: підготовчий етап\n",
    "ФБ-21 Худоба Арсен\n",
    "Мета роботи: ознайомитися з основними кроками по роботі з даними – workflow від постановки задачі до написання пояснювальної записки, зрозуміти постановку задачі та природу даних, над якими виконується аналітичні операції\n",
    "\n",
    "1. Для кожної із адміністративних одиниць України завантажити текстові структуровані файли, що містять значення VHI-індексу. Ця процедура має бути автоматизована, параметром процедури має бути індекс (номер) області. При зберіганні файлу до його імені потрібно додати дату та час завантаження;"
   ]
  },
  {
   "cell_type": "code",
   "execution_count": 7,
   "id": "d1462db7",
   "metadata": {
    "scrolled": true
   },
   "outputs": [],
   "source": [
    "import os\n",
    "import pandas as pd\n",
    "import urllib.request\n",
    "from datetime import datetime\n",
    "import shutil"
   ]
  },
  {
   "cell_type": "code",
   "execution_count": 11,
   "id": "144f230c",
   "metadata": {},
   "outputs": [
    {
     "name": "stdout",
     "output_type": "stream",
     "text": [
      "VHI for area 1 is downloaded and saved as vhi_id_1_2024-03-07_21-05-17.csv in csv_files directory.\n",
      "VHI for area 2 is downloaded and saved as vhi_id_2_2024-03-07_21-05-17.csv in csv_files directory.\n",
      "VHI for area 3 is downloaded and saved as vhi_id_3_2024-03-07_21-05-18.csv in csv_files directory.\n",
      "VHI for area 4 is downloaded and saved as vhi_id_4_2024-03-07_21-05-19.csv in csv_files directory.\n",
      "VHI for area 5 is downloaded and saved as vhi_id_5_2024-03-07_21-05-20.csv in csv_files directory.\n",
      "VHI for area 6 is downloaded and saved as vhi_id_6_2024-03-07_21-05-21.csv in csv_files directory.\n",
      "VHI for area 7 is downloaded and saved as vhi_id_7_2024-03-07_21-05-22.csv in csv_files directory.\n",
      "VHI for area 8 is downloaded and saved as vhi_id_8_2024-03-07_21-05-23.csv in csv_files directory.\n",
      "VHI for area 9 is downloaded and saved as vhi_id_9_2024-03-07_21-05-23.csv in csv_files directory.\n",
      "VHI for area 10 is downloaded and saved as vhi_id_10_2024-03-07_21-05-24.csv in csv_files directory.\n",
      "VHI for area 11 is downloaded and saved as vhi_id_11_2024-03-07_21-05-25.csv in csv_files directory.\n",
      "VHI for area 12 is downloaded and saved as vhi_id_12_2024-03-07_21-05-26.csv in csv_files directory.\n",
      "VHI for area 13 is downloaded and saved as vhi_id_13_2024-03-07_21-05-28.csv in csv_files directory.\n",
      "VHI for area 14 is downloaded and saved as vhi_id_14_2024-03-07_21-05-29.csv in csv_files directory.\n",
      "VHI for area 15 is downloaded and saved as vhi_id_15_2024-03-07_21-05-31.csv in csv_files directory.\n",
      "VHI for area 16 is downloaded and saved as vhi_id_16_2024-03-07_21-05-32.csv in csv_files directory.\n",
      "VHI for area 17 is downloaded and saved as vhi_id_17_2024-03-07_21-05-33.csv in csv_files directory.\n",
      "VHI for area 18 is downloaded and saved as vhi_id_18_2024-03-07_21-05-34.csv in csv_files directory.\n",
      "VHI for area 19 is downloaded and saved as vhi_id_19_2024-03-07_21-05-34.csv in csv_files directory.\n",
      "VHI for area 20 is downloaded and saved as vhi_id_20_2024-03-07_21-05-35.csv in csv_files directory.\n",
      "VHI for area 21 is downloaded and saved as vhi_id_21_2024-03-07_21-05-36.csv in csv_files directory.\n",
      "VHI for area 22 is downloaded and saved as vhi_id_22_2024-03-07_21-05-37.csv in csv_files directory.\n",
      "VHI for area 23 is downloaded and saved as vhi_id_23_2024-03-07_21-05-38.csv in csv_files directory.\n",
      "VHI for area 24 is downloaded and saved as vhi_id_24_2024-03-07_21-05-39.csv in csv_files directory.\n",
      "VHI for area 25 is downloaded and saved as vhi_id_25_2024-03-07_21-05-40.csv in csv_files directory.\n",
      "VHI for area 26 is downloaded and saved as vhi_id_26_2024-03-07_21-05-41.csv in csv_files directory.\n",
      "VHI for area 27 is downloaded and saved as vhi_id_27_2024-03-07_21-05-41.csv in csv_files directory.\n"
     ]
    }
   ],
   "source": [
    "directory = 'csv_files'\n",
    "if os.path.exists(directory):\n",
    "        shutil.rmtree(directory)\n",
    "        \n",
    "def get_data(i):\n",
    "    os.makedirs(directory, exist_ok=True)\n",
    "    \n",
    "    url = f\"https://www.star.nesdis.noaa.gov/smcd/emb/vci/VH/get_TS_admin.php?country=UKR&provinceID={i}&year1=1981&year2=2024&type=Mean\"\n",
    "    vhi_url = urllib.request.urlopen(url)\n",
    "\n",
    "    now = datetime.now()\n",
    "    date_time = now.strftime(\"%Y-%m-%d_%H-%M-%S\")\n",
    "    filename = f'vhi_id_{i}_{date_time}.csv'\n",
    "\n",
    "    filepath = os.path.join(directory, filename)\n",
    "    with open(filepath, 'wb') as out:\n",
    "        out.write(vhi_url.read())\n",
    "\n",
    "    print(f\"VHI for area {i} is downloaded and saved as {filename} in {directory} directory.\")\n",
    "\n",
    "for i in range(1, 28):\n",
    "    get_data(i)"
   ]
  },
  {
   "cell_type": "markdown",
   "id": "4f959069",
   "metadata": {},
   "source": [
    "2. Зчитати завантажені текстові файли у фрейм (детальніше про роботу із фреймами буде розказано у подальших лабораторних роботах). Імена стовбців фрейму мають бути змістовними та легкими для сприйняття (не повинно бути спеціалізованих символів, пробілів тощо). Ця задача має бути реалізована у вигляді окремої процедури, яка на вхід приймає шлях до директорії, в якій зберігаються файли;"
   ]
  },
  {
   "cell_type": "code",
   "execution_count": 26,
   "id": "57da6648",
   "metadata": {},
   "outputs": [
    {
     "name": "stdout",
     "output_type": "stream",
     "text": [
      "      Year  Week    SMN     SMT    VCI    TCI    VHI  area\n",
      "0     1982   1.0  0.059  258.24  51.11  48.78  49.95     1\n",
      "1     1982   2.0  0.063  261.53  55.89  38.20  47.04     1\n",
      "2     1982   3.0  0.063  263.45  57.30  32.69  44.99     1\n",
      "3     1982   4.0  0.061  265.10  53.96  28.62  41.29     1\n",
      "4     1982   5.0  0.058  266.42  46.87  28.57  37.72     1\n",
      "...    ...   ...    ...     ...    ...    ...    ...   ...\n",
      "2188  2024   5.0  0.101  275.13  58.55   8.77  33.66    27\n",
      "2189  2024   6.0  0.110  276.43  60.83   9.08  34.96    27\n",
      "2190  2024   7.0  0.120  277.97  61.35  10.45  35.90    27\n",
      "2191  2024   8.0  0.130  279.15  60.18  13.87  37.02    27\n",
      "2192  2024   9.0  0.142  280.64  59.61  16.63  38.12    27\n",
      "\n",
      "[57861 rows x 8 columns]\n"
     ]
    }
   ],
   "source": [
    "def read(directory):\n",
    "    headers = ['Year', 'Week', 'SMN', 'SMT', 'VCI', 'TCI', 'VHI', 'empty']\n",
    "    files = os.listdir(directory)\n",
    "    result_df = pd.DataFrame()\n",
    "    for i in range(len(files)):\n",
    "        full_path = os.path.join(directory, files[i])\n",
    "        df = pd.read_csv(full_path, header=1, names=headers)\n",
    "        df = df.drop(df.loc[df['VHI'] == -1].index)\n",
    "        df['area'] = i + 1\n",
    "        df['Year'] = df['Year'].str.replace('<tt><pre>', '')\n",
    "        df = df[~df['Year'].str.contains('</pre></tt>')]\n",
    "        df.drop('empty', axis=1, inplace=True)\n",
    "        result_df = pd.concat([result_df, df])\n",
    "    return result_df\n",
    "df = read(directory)\n",
    "print(df)\n"
   ]
  },
  {
   "cell_type": "markdown",
   "id": "34dd3719",
   "metadata": {},
   "source": [
    "3. Реалізувати процедуру, яка змінить індекси областей, які використані на порталі NOAA на потрібні."
   ]
  },
  {
   "cell_type": "code",
   "execution_count": 27,
   "id": "7edb557d",
   "metadata": {},
   "outputs": [],
   "source": [
    "def changeID(df):\n",
    "    cities =  {1: \"Cherkasy\", 2: \"Chernihiv\", 3: \"Chernivtsi\", 4: \"Crimea\", 5: \"Dnipropetrovs'k\", 6: \"Donets'k\", 7: \"Ivano-Frankivs'k\", 8: \"Kharkiv\", 9: \"Kherson\", 10: \"Khmel'nyts'kyy\", 11: \"Kiev\", 12: \"Kiev City\", 13: \"Kirovohrad\", 14: \"Luhans'k\", 15: \"L'viv\", 16: \"Mykolayiv\", 17: \"Odessa\", 18: \"Poltava\", 19: \"Rivne\", 20: \"Sevastopol'\", 21: \"Sumy\", 22: \"Ternopil'\", 23: \"Transcarpathia\", 24: \"Vinnytsya\", 25: \"Volyn\", 26: \"Zaporizhzhya\", 27: \"Zhytomyr\"}\n",
    "    df['area'] = df['area'].replace(cities)\n",
    "    \n",
    "    return df"
   ]
  },
  {
   "cell_type": "code",
   "execution_count": 28,
   "id": "2fdf6ec8",
   "metadata": {},
   "outputs": [
    {
     "name": "stdout",
     "output_type": "stream",
     "text": [
      "      Year  Week    SMN     SMT    VCI    TCI    VHI      area\n",
      "0     1982   1.0  0.059  258.24  51.11  48.78  49.95  Cherkasy\n",
      "1     1982   2.0  0.063  261.53  55.89  38.20  47.04  Cherkasy\n",
      "2     1982   3.0  0.063  263.45  57.30  32.69  44.99  Cherkasy\n",
      "3     1982   4.0  0.061  265.10  53.96  28.62  41.29  Cherkasy\n",
      "4     1982   5.0  0.058  266.42  46.87  28.57  37.72  Cherkasy\n",
      "...    ...   ...    ...     ...    ...    ...    ...       ...\n",
      "2188  2024   5.0  0.101  275.13  58.55   8.77  33.66  Zhytomyr\n",
      "2189  2024   6.0  0.110  276.43  60.83   9.08  34.96  Zhytomyr\n",
      "2190  2024   7.0  0.120  277.97  61.35  10.45  35.90  Zhytomyr\n",
      "2191  2024   8.0  0.130  279.15  60.18  13.87  37.02  Zhytomyr\n",
      "2192  2024   9.0  0.142  280.64  59.61  16.63  38.12  Zhytomyr\n",
      "\n",
      "[57861 rows x 8 columns]\n"
     ]
    }
   ],
   "source": [
    "df = changeID(read(directory))\n",
    "print(df)"
   ]
  },
  {
   "cell_type": "markdown",
   "id": "b5919c3b",
   "metadata": {},
   "source": [
    "Реалізувати процедури для формування вибірок наступного виду (включаючи елементи аналізу):\n",
    "o Ряд VHI для області за рік, пошук екстремумів (min та max);"
   ]
  },
  {
   "cell_type": "code",
   "execution_count": 29,
   "id": "1a66fe72",
   "metadata": {},
   "outputs": [
    {
     "name": "stdout",
     "output_type": "stream",
     "text": [
      "max: 72.32\n",
      "min: 36.12\n"
     ]
    }
   ],
   "source": [
    "def max_extr(df, area, year):\n",
    "    max_vhi = df[(df['area'] == area) & (df['Year'] == year)]['VHI'].max()\n",
    "    \n",
    "    return max_vhi\n",
    "\n",
    "max_vhi = max_extr(df, \"Kiev\", '2022')\n",
    "print('max:', max_vhi)\n",
    "\n",
    "def min_extr(df, area, year):\n",
    "    min_vhi = df[(df['area'] == area) & (df['Year'] == year)]['VHI'].min()\n",
    "    \n",
    "    return min_vhi\n",
    "\n",
    "min_vhi = min_extr(df, \"Kiev\", '2022')\n",
    "print('min:', min_vhi)"
   ]
  },
  {
   "cell_type": "markdown",
   "id": "08064e8c",
   "metadata": {},
   "source": [
    "Реалізувати процедури для формування вибірок наступного виду (включаючи елементи аналізу):\n",
    "o Ряд VHI за всі роки для області, виявити роки з екстремальними посухами, які торкнулися більше вказаного відсотка області;"
   ]
  },
  {
   "cell_type": "code",
   "execution_count": 58,
   "id": "bcf05f81",
   "metadata": {},
   "outputs": [
    {
     "name": "stdout",
     "output_type": "stream",
     "text": [
      "['1984' '1986' '1993' '1994' '1999' '2000' '2003' '2007' '2012']\n"
     ]
    }
   ],
   "source": [
    "def dry(df, area, percent):\n",
    "    df_area = df[df[\"area\"] == area]\n",
    "    df_drought = df[(df.VHI <= percent)][\"Year\"].unique()\n",
    "    df_drought.sort()\n",
    "    return df_drought\n",
    "\n",
    "\n",
    "print(dry(df, \"Kiev\", 15))"
   ]
  },
  {
   "cell_type": "markdown",
   "id": "12587a08",
   "metadata": {},
   "source": [
    "Реалізувати процедури для формування вибірок наступного виду (включаючи елементи аналізу):\n",
    "o Аналогічно для помірних посух"
   ]
  },
  {
   "cell_type": "code",
   "execution_count": 63,
   "id": "7caaa2ea",
   "metadata": {},
   "outputs": [
    {
     "name": "stdout",
     "output_type": "stream",
     "text": [
      "['1984' '1986' '1993' '1994' '1999' '2000' '2003' '2007' '2012']\n"
     ]
    }
   ],
   "source": [
    "def dry(df, area, morethan, lessthan):\n",
    "    df_area = df[df[\"area\"] == area]\n",
    "    df_drought = df[(df.VHI >= morethan) & (df.VHI <= lessthan)][\"Year\"].unique()\n",
    "    df_drought.sort()\n",
    "    return df_drought\n",
    "\n",
    "\n",
    "print(dry(df, \"Kiev\", 0, 15))"
   ]
  },
  {
   "cell_type": "code",
   "execution_count": null,
   "id": "d9812825",
   "metadata": {},
   "outputs": [],
   "source": []
  }
 ],
 "metadata": {
  "kernelspec": {
   "display_name": "Python 3 (ipykernel)",
   "language": "python",
   "name": "python3"
  },
  "language_info": {
   "codemirror_mode": {
    "name": "ipython",
    "version": 3
   },
   "file_extension": ".py",
   "mimetype": "text/x-python",
   "name": "python",
   "nbconvert_exporter": "python",
   "pygments_lexer": "ipython3",
   "version": "3.11.5"
  }
 },
 "nbformat": 4,
 "nbformat_minor": 5
}
