{
 "cells": [
  {
   "cell_type": "raw",
   "id": "6e2302ec",
   "metadata": {},
   "source": [
    "Лабораторна робота No1\n",
    "Наука про дані: підготовчий етап\n",
    "ФБ-21 Худоба Арсен\n",
    "Мета роботи: ознайомитися з основними кроками по роботі з даними – workflow від постановки задачі до написання пояснювальної записки, зрозуміти постановку задачі та природу даних, над якими виконується аналітичні операції\n",
    "\n",
    "1. Для кожної із адміністративних одиниць України завантажити текстові структуровані файли, що містять значення VHI-індексу. Ця процедура має бути автоматизована, параметром процедури має бути індекс (номер) області. При зберіганні файлу до його імені потрібно додати дату та час завантаження;"
   ]
  },
  {
   "cell_type": "code",
   "execution_count": 3,
   "id": "d1462db7",
   "metadata": {
    "scrolled": true
   },
   "outputs": [],
   "source": [
    "import os\n",
    "import pandas as pd\n",
    "import urllib.request\n",
    "from datetime import datetime"
   ]
  },
  {
   "cell_type": "code",
   "execution_count": 4,
   "id": "144f230c",
   "metadata": {},
   "outputs": [
    {
     "name": "stdout",
     "output_type": "stream",
     "text": [
      "VHI for province 1 is downloaded and saved as vhi_id_1_2024-02-29_18-02-11.csv in csv_files directory.\n",
      "VHI for province 2 is downloaded and saved as vhi_id_2_2024-02-29_18-02-15.csv in csv_files directory.\n",
      "VHI for province 3 is downloaded and saved as vhi_id_3_2024-02-29_18-02-16.csv in csv_files directory.\n",
      "VHI for province 4 is downloaded and saved as vhi_id_4_2024-02-29_18-02-18.csv in csv_files directory.\n",
      "VHI for province 5 is downloaded and saved as vhi_id_5_2024-02-29_18-02-19.csv in csv_files directory.\n",
      "VHI for province 6 is downloaded and saved as vhi_id_6_2024-02-29_18-02-20.csv in csv_files directory.\n",
      "VHI for province 7 is downloaded and saved as vhi_id_7_2024-02-29_18-02-21.csv in csv_files directory.\n",
      "VHI for province 8 is downloaded and saved as vhi_id_8_2024-02-29_18-02-22.csv in csv_files directory.\n",
      "VHI for province 9 is downloaded and saved as vhi_id_9_2024-02-29_18-02-22.csv in csv_files directory.\n",
      "VHI for province 10 is downloaded and saved as vhi_id_10_2024-02-29_18-02-23.csv in csv_files directory.\n",
      "VHI for province 11 is downloaded and saved as vhi_id_11_2024-02-29_18-02-24.csv in csv_files directory.\n",
      "VHI for province 12 is downloaded and saved as vhi_id_12_2024-02-29_18-02-25.csv in csv_files directory.\n",
      "VHI for province 13 is downloaded and saved as vhi_id_13_2024-02-29_18-02-26.csv in csv_files directory.\n",
      "VHI for province 14 is downloaded and saved as vhi_id_14_2024-02-29_18-02-27.csv in csv_files directory.\n",
      "VHI for province 15 is downloaded and saved as vhi_id_15_2024-02-29_18-02-27.csv in csv_files directory.\n",
      "VHI for province 16 is downloaded and saved as vhi_id_16_2024-02-29_18-02-28.csv in csv_files directory.\n",
      "VHI for province 17 is downloaded and saved as vhi_id_17_2024-02-29_18-02-29.csv in csv_files directory.\n",
      "VHI for province 18 is downloaded and saved as vhi_id_18_2024-02-29_18-02-30.csv in csv_files directory.\n",
      "VHI for province 19 is downloaded and saved as vhi_id_19_2024-02-29_18-02-31.csv in csv_files directory.\n",
      "VHI for province 20 is downloaded and saved as vhi_id_20_2024-02-29_18-02-32.csv in csv_files directory.\n",
      "VHI for province 21 is downloaded and saved as vhi_id_21_2024-02-29_18-02-33.csv in csv_files directory.\n",
      "VHI for province 22 is downloaded and saved as vhi_id_22_2024-02-29_18-02-34.csv in csv_files directory.\n",
      "VHI for province 23 is downloaded and saved as vhi_id_23_2024-02-29_18-02-35.csv in csv_files directory.\n",
      "VHI for province 24 is downloaded and saved as vhi_id_24_2024-02-29_18-02-35.csv in csv_files directory.\n",
      "VHI for province 25 is downloaded and saved as vhi_id_25_2024-02-29_18-02-36.csv in csv_files directory.\n",
      "VHI for province 26 is downloaded and saved as vhi_id_26_2024-02-29_18-02-38.csv in csv_files directory.\n",
      "VHI for province 27 is downloaded and saved as vhi_id_27_2024-02-29_18-02-39.csv in csv_files directory.\n"
     ]
    }
   ],
   "source": [
    "def get_data(i):\n",
    "    url = f\"https://www.star.nesdis.noaa.gov/smcd/emb/vci/VH/get_TS_admin.php?country=UKR&provinceID={i}&year1=1981&year2=2024&type=Mean\"\n",
    "    vhi_url = urllib.request.urlopen(url)\n",
    "\n",
    "    directory = 'csv_files'\n",
    "    os.makedirs(directory, exist_ok=True)\n",
    "\n",
    "    now = datetime.now()\n",
    "    date_time = now.strftime(\"%Y-%m-%d_%H-%M-%S\")\n",
    "    filename = f'vhi_id_{i}_{date_time}.csv'\n",
    "\n",
    "    filepath = os.path.join(directory, filename)\n",
    "    with open(filepath, 'wb') as out:\n",
    "        out.write(vhi_url.read())\n",
    "\n",
    "    print(f\"VHI for province {i} is downloaded and saved as {filename} in {directory} directory.\")\n",
    "\n",
    "\n",
    "for i in range(1, 28):\n",
    "    get_data(i)"
   ]
  },
  {
   "cell_type": "raw",
   "id": "2c7545c1",
   "metadata": {},
   "source": [
    "2. Зчитати завантажені текстові файли у фрейм (детальніше про роботу із фреймами буде розказано у подальших лабораторних роботах). Імена стовбців фрейму мають бути змістовними та легкими для сприйняття (не повинно бути спеціалізованих символів, пробілів тощо). Ця задача має бути реалізована у вигляді окремої процедури, яка на вхід приймає шлях до директорії, в якій зберігаються файли;"
   ]
  },
  {
   "cell_type": "code",
   "execution_count": 75,
   "id": "57da6648",
   "metadata": {},
   "outputs": [
    {
     "name": "stdout",
     "output_type": "stream",
     "text": [
      "      Year  Week    SMN     SMT    VCI    TCI    VHI  empty  area\n",
      "0     1982   1.0  0.059  258.24  51.11  48.78  49.95    NaN     1\n",
      "1     1982   2.0  0.063  261.53  55.89  38.20  47.04    NaN     1\n",
      "2     1982   3.0  0.063  263.45  57.30  32.69  44.99    NaN     1\n",
      "3     1982   4.0  0.061  265.10  53.96  28.62  41.29    NaN     1\n",
      "4     1982   5.0  0.058  266.42  46.87  28.57  37.72    NaN     1\n",
      "...    ...   ...    ...     ...    ...    ...    ...    ...   ...\n",
      "2187  2024   4.0  0.094  273.52  55.09  11.98  33.53    NaN    27\n",
      "2188  2024   5.0  0.097  274.20  56.24  11.92  34.08    NaN    27\n",
      "2189  2024   6.0  0.104  275.01  57.22  14.09  35.66    NaN    27\n",
      "2190  2024   7.0  0.110  275.79  55.76  18.29  37.02    NaN    27\n",
      "2191  2024   8.0  0.118  276.64  53.80  23.10  38.45    NaN    27\n",
      "\n",
      "[57834 rows x 9 columns]\n"
     ]
    }
   ],
   "source": [
    "def read(directory):\n",
    "    headers = ['Year', 'Week', 'SMN', 'SMT', 'VCI', 'TCI', 'VHI', 'empty']\n",
    "    files = os.listdir(directory)\n",
    "    result_df = pd.DataFrame()\n",
    "    for i in range(len(files)):\n",
    "        full_path = os.path.join(directory, files[i])\n",
    "        df = pd.read_csv(full_path, header=1, names=headers)\n",
    "        df = df.drop(df.loc[df['VHI'] == -1].index)\n",
    "        df['area'] = i + 1\n",
    "        df['Year'] = df['Year'].str.replace('<tt><pre>', '')\n",
    "        df = df[~df['Year'].str.contains('</pre></tt>')]\n",
    "        result_df = pd.concat([result_df, df])\n",
    "    return result_df\n",
    "\n",
    "df = read(directory)\n",
    "print(df)\n"
   ]
  },
  {
   "cell_type": "raw",
   "id": "ade2d991",
   "metadata": {},
   "source": [
    "3. Реалізувати процедуру, яка змінить індекси областей, які використані на порталі NOAA на потрібні."
   ]
  },
  {
   "cell_type": "code",
   "execution_count": 87,
   "id": "7edb557d",
   "metadata": {},
   "outputs": [],
   "source": [
    "def changeID(df):\n",
    "    cities =  {1: \"Cherkasy\", 2: \"Chernihiv\", 3: \"Chernivtsi\", 4: \"Crimea\", 5: \"Dnipropetrovs'k\", 6: \"Donets'k\", 7: \"Ivano-Frankivs'k\", 8: \"Kharkiv\", 9: \"Kherson\", 10: \"Khmel'nyts'kyy\", 11: \"Kiev\", 12: \"Kiev City\", 13: \"Kirovohrad\", 14: \"Luhans'k\", 15: \"L'viv\", 16: \"Mykolayiv\", 17: \"Odessa\", 18: \"Poltava\", 19: \"Rivne\", 20: \"Sevastopol'\", 21: \"Sumy\", 22: \"Ternopil'\", 23: \"Transcarpathia\", 24: \"Vinnytsya\", 25: \"Volyn\", 26: \"Zaporizhzhya\", 27: \"Zhytomyr\"}\n",
    "    df['area'] = df['area'].replace(cities)\n",
    "    \n",
    "    return df"
   ]
  },
  {
   "cell_type": "code",
   "execution_count": 88,
   "id": "2fdf6ec8",
   "metadata": {},
   "outputs": [
    {
     "name": "stdout",
     "output_type": "stream",
     "text": [
      "      Year  Week    SMN     SMT    VCI    TCI    VHI  empty      area\n",
      "0     1982   1.0  0.059  258.24  51.11  48.78  49.95    NaN  Cherkasy\n",
      "1     1982   2.0  0.063  261.53  55.89  38.20  47.04    NaN  Cherkasy\n",
      "2     1982   3.0  0.063  263.45  57.30  32.69  44.99    NaN  Cherkasy\n",
      "3     1982   4.0  0.061  265.10  53.96  28.62  41.29    NaN  Cherkasy\n",
      "4     1982   5.0  0.058  266.42  46.87  28.57  37.72    NaN  Cherkasy\n",
      "...    ...   ...    ...     ...    ...    ...    ...    ...       ...\n",
      "2187  2024   4.0  0.094  273.52  55.09  11.98  33.53    NaN  Zhytomyr\n",
      "2188  2024   5.0  0.097  274.20  56.24  11.92  34.08    NaN  Zhytomyr\n",
      "2189  2024   6.0  0.104  275.01  57.22  14.09  35.66    NaN  Zhytomyr\n",
      "2190  2024   7.0  0.110  275.79  55.76  18.29  37.02    NaN  Zhytomyr\n",
      "2191  2024   8.0  0.118  276.64  53.80  23.10  38.45    NaN  Zhytomyr\n",
      "\n",
      "[57834 rows x 9 columns]\n"
     ]
    }
   ],
   "source": [
    "df = changeID(read(directory))\n",
    "print(df)"
   ]
  },
  {
   "cell_type": "raw",
   "id": "5bf433e9",
   "metadata": {},
   "source": [
    "Реалізувати процедури для формування вибірок наступного виду (включаючи елементи аналізу):\n",
    "o Ряд VHI для області за рік, пошук екстремумів (min та max);"
   ]
  },
  {
   "cell_type": "code",
   "execution_count": 161,
   "id": "1a66fe72",
   "metadata": {},
   "outputs": [
    {
     "name": "stdout",
     "output_type": "stream",
     "text": [
      "max: 72.32\n",
      "min: 36.12\n"
     ]
    }
   ],
   "source": [
    "def max_extr(df, area, year):\n",
    "    max_vhi = df[(df['area'] == area) & (df['Year'] == year)]['VHI'].max()\n",
    "    \n",
    "    return max_vhi\n",
    "\n",
    "max_vhi = max_extr(df, \"Kiev\", '2022')\n",
    "print('max:', max_vhi)\n",
    "\n",
    "def min_extr(df, area, year):\n",
    "    min_vhi = df[(df['area'] == area) & (df['Year'] == year)]['VHI'].min()\n",
    "    \n",
    "    return min_vhi\n",
    "\n",
    "min_vhi = min_extr(df, \"Kiev\", '2022')\n",
    "print('min:', min_vhi)"
   ]
  },
  {
   "cell_type": "raw",
   "id": "6f5ff51b",
   "metadata": {},
   "source": [
    "Реалізувати процедури для формування вибірок наступного виду (включаючи елементи аналізу):\n",
    "o Ряд VHI за всі роки для області, виявити роки з екстремальними посухами, які торкнулися більше вказаного відсотка області;"
   ]
  },
  {
   "cell_type": "code",
   "execution_count": 158,
   "id": "bcf05f81",
   "metadata": {},
   "outputs": [
    {
     "name": "stdout",
     "output_type": "stream",
     "text": [
      "['1984' '1986' '1993' '1994' '1999' '2000' '2003' '2007' '2012']\n"
     ]
    }
   ],
   "source": [
    "def dry(df, area, percent):\n",
    "    df_area = df[df[\"area\"] == area]\n",
    "    df_drought = df[(df.VHI <= percent)][\"Year\"].unique()\n",
    "    df_drought.sort()\n",
    "    return df_drought\n",
    "\n",
    "\n",
    "print(dry(df, \"Kiev\", 15))"
   ]
  },
  {
   "cell_type": "raw",
   "id": "638066e9",
   "metadata": {},
   "source": [
    "Реалізувати процедури для формування вибірок наступного виду (включаючи елементи аналізу):\n",
    "o Аналогічно для помірних посух"
   ]
  },
  {
   "cell_type": "code",
   "execution_count": 157,
   "id": "7caaa2ea",
   "metadata": {},
   "outputs": [
    {
     "name": "stdout",
     "output_type": "stream",
     "text": [
      "['1982' '1983' '1984' '1985' '1986' '1987' '1988' '1989' '1990' '1991'\n",
      " '1992' '1993' '1994' '1995' '1996' '1997' '1998' '1999' '2000' '2001'\n",
      " '2002' '2003' '2004' '2005' '2006' '2007' '2008' '2009' '2010' '2011'\n",
      " '2012' '2013' '2014' '2015' '2016' '2017' '2018' '2019' '2020' '2021'\n",
      " '2022' '2023' '2024']\n"
     ]
    }
   ],
   "source": [
    "def dry(df, area, percent):\n",
    "    df_area = df[df[\"area\"] == area]\n",
    "    df_drought = df[(df.VHI <= percent)][\"Year\"].unique()\n",
    "    df_drought.sort()\n",
    "    return df_drought\n",
    "\n",
    "\n",
    "print(dry(df, \"Kiev\", 35))"
   ]
  },
  {
   "cell_type": "code",
   "execution_count": null,
   "id": "6d18b06d",
   "metadata": {},
   "outputs": [],
   "source": []
  }
 ],
 "metadata": {
  "kernelspec": {
   "display_name": "Python 3 (ipykernel)",
   "language": "python",
   "name": "python3"
  },
  "language_info": {
   "codemirror_mode": {
    "name": "ipython",
    "version": 3
   },
   "file_extension": ".py",
   "mimetype": "text/x-python",
   "name": "python",
   "nbconvert_exporter": "python",
   "pygments_lexer": "ipython3",
   "version": "3.11.5"
  }
 },
 "nbformat": 4,
 "nbformat_minor": 5
}
